{
  "metadata": {
    "kernelspec": {
      "display_name": "Python 3",
      "name": "python3"
    },
    "language_info": {
      "name": "python",
      "version": "3.7.12",
      "mimetype": "text/x-python",
      "codemirror_mode": {
        "name": "ipython",
        "version": 3
      },
      "pygments_lexer": "ipython3",
      "nbconvert_exporter": "python",
      "file_extension": ".py"
    },
    "kaggle": {
      "accelerator": "none",
      "dataSources": [
        {
          "sourceId": 228180,
          "sourceType": "datasetVersion",
          "datasetId": 14872
        }
      ],
      "dockerImageVersionId": 30170,
      "isInternetEnabled": false,
      "language": "python",
      "sourceType": "notebook",
      "isGpuEnabled": false
    },
    "colab": {
      "name": "gre-admission-prediction 1d0a20",
      "provenance": [],
      "gpuType": "T4",
      "include_colab_link": true
    },
    "accelerator": "GPU"
  },
  "nbformat_minor": 0,
  "nbformat": 4,
  "cells": [
    {
      "cell_type": "markdown",
      "metadata": {
        "id": "view-in-github",
        "colab_type": "text"
      },
      "source": [
        "<a href=\"https://colab.research.google.com/github/Yousaf-rao/100-Days-of-deep-learnig-code/blob/main/gre_admission_prediction_1d0a20.ipynb\" target=\"_parent\"><img src=\"https://colab.research.google.com/assets/colab-badge.svg\" alt=\"Open In Colab\"/></a>"
      ]
    },
    {
      "source": [
        "# IMPORTANT: RUN THIS CELL IN ORDER TO IMPORT YOUR KAGGLE DATA SOURCES,\n",
        "# THEN FEEL FREE TO DELETE THIS CELL.\n",
        "# NOTE: THIS NOTEBOOK ENVIRONMENT DIFFERS FROM KAGGLE'S PYTHON\n",
        "# ENVIRONMENT SO THERE MAY BE MISSING LIBRARIES USED BY YOUR\n",
        "# NOTEBOOK.\n",
        "import kagglehub\n",
        "mohansacharya_graduate_admissions_path = kagglehub.dataset_download('mohansacharya/graduate-admissions')\n",
        "\n",
        "print('Data source import complete.')\n"
      ],
      "metadata": {
        "colab": {
          "base_uri": "https://localhost:8080/"
        },
        "id": "UwmPG7doz9S9",
        "outputId": "4a003064-0b86-496a-85be-59a940881917"
      },
      "cell_type": "code",
      "outputs": [
        {
          "output_type": "stream",
          "name": "stdout",
          "text": [
            "Downloading from https://www.kaggle.com/api/v1/datasets/download/mohansacharya/graduate-admissions?dataset_version_number=2...\n"
          ]
        },
        {
          "output_type": "stream",
          "name": "stderr",
          "text": [
            "100%|██████████| 9.64k/9.64k [00:00<00:00, 6.49MB/s]"
          ]
        },
        {
          "output_type": "stream",
          "name": "stdout",
          "text": [
            "Extracting files...\n",
            "Data source import complete.\n"
          ]
        },
        {
          "output_type": "stream",
          "name": "stderr",
          "text": [
            "\n"
          ]
        }
      ],
      "execution_count": 1
    },
    {
      "cell_type": "code",
      "source": [
        "# This Python 3 environment comes with many helpful analytics libraries installed\n",
        "# It is defined by the kaggle/python Docker image: https://github.com/kaggle/docker-python\n",
        "# For example, here's several helpful packages to load\n",
        "\n",
        "import numpy as np # linear algebra\n",
        "import pandas as pd # data processing, CSV file I/O (e.g. pd.read_csv)\n",
        "\n",
        "# Input data files are available in the read-only \"../input/\" directory\n",
        "# For example, running this (by clicking run or pressing Shift+Enter) will list all files under the input directory\n",
        "\n",
        "import os\n",
        "for dirname, _, filenames in os.walk('/kaggle/input'):\n",
        "    for filename in filenames:\n",
        "        print(os.path.join(dirname, filename))\n",
        "\n",
        "# You can write up to 20GB to the current directory (/kaggle/working/) that gets preserved as output when you create a version using \"Save & Run All\"\n",
        "# You can also write temporary files to /kaggle/temp/, but they won't be saved outside of the current session"
      ],
      "metadata": {
        "_uuid": "8f2839f25d086af736a60e9eeb907d3b93b6e0e5",
        "_cell_guid": "b1076dfc-b9ad-4769-8c92-a6c4dae69d19",
        "execution": {
          "iopub.status.busy": "2025-01-26T16:10:46.601689Z",
          "iopub.execute_input": "2025-01-26T16:10:46.602001Z",
          "iopub.status.idle": "2025-01-26T16:10:46.609533Z",
          "shell.execute_reply.started": "2025-01-26T16:10:46.601967Z",
          "shell.execute_reply": "2025-01-26T16:10:46.608544Z"
        },
        "trusted": true,
        "id": "_5NqcJeoz9TJ"
      },
      "outputs": [],
      "execution_count": 2
    },
    {
      "cell_type": "code",
      "source": [
        "df = pd.read_csv('/kaggle/input/graduate-admissions/Admission_Predict_Ver1.1.csv')"
      ],
      "metadata": {
        "execution": {
          "iopub.status.busy": "2025-01-26T16:10:53.332972Z",
          "iopub.execute_input": "2025-01-26T16:10:53.333296Z",
          "iopub.status.idle": "2025-01-26T16:10:53.342012Z",
          "shell.execute_reply.started": "2025-01-26T16:10:53.333262Z",
          "shell.execute_reply": "2025-01-26T16:10:53.341264Z"
        },
        "trusted": true,
        "colab": {
          "base_uri": "https://localhost:8080/",
          "height": 287
        },
        "id": "8zbI5adBz9TL",
        "outputId": "80857588-1a89-4ddf-a552-5509ba25c222"
      },
      "outputs": [
        {
          "output_type": "error",
          "ename": "FileNotFoundError",
          "evalue": "[Errno 2] No such file or directory: '/kaggle/input/graduate-admissions/Admission_Predict_Ver1.1.csv'",
          "traceback": [
            "\u001b[0;31m---------------------------------------------------------------------------\u001b[0m",
            "\u001b[0;31mFileNotFoundError\u001b[0m                         Traceback (most recent call last)",
            "\u001b[0;32m<ipython-input-3-75057db3267b>\u001b[0m in \u001b[0;36m<cell line: 0>\u001b[0;34m()\u001b[0m\n\u001b[0;32m----> 1\u001b[0;31m \u001b[0mdf\u001b[0m \u001b[0;34m=\u001b[0m \u001b[0mpd\u001b[0m\u001b[0;34m.\u001b[0m\u001b[0mread_csv\u001b[0m\u001b[0;34m(\u001b[0m\u001b[0;34m'/kaggle/input/graduate-admissions/Admission_Predict_Ver1.1.csv'\u001b[0m\u001b[0;34m)\u001b[0m\u001b[0;34m\u001b[0m\u001b[0;34m\u001b[0m\u001b[0m\n\u001b[0m",
            "\u001b[0;32m/usr/local/lib/python3.11/dist-packages/pandas/io/parsers/readers.py\u001b[0m in \u001b[0;36mread_csv\u001b[0;34m(filepath_or_buffer, sep, delimiter, header, names, index_col, usecols, dtype, engine, converters, true_values, false_values, skipinitialspace, skiprows, skipfooter, nrows, na_values, keep_default_na, na_filter, verbose, skip_blank_lines, parse_dates, infer_datetime_format, keep_date_col, date_parser, date_format, dayfirst, cache_dates, iterator, chunksize, compression, thousands, decimal, lineterminator, quotechar, quoting, doublequote, escapechar, comment, encoding, encoding_errors, dialect, on_bad_lines, delim_whitespace, low_memory, memory_map, float_precision, storage_options, dtype_backend)\u001b[0m\n\u001b[1;32m   1024\u001b[0m     \u001b[0mkwds\u001b[0m\u001b[0;34m.\u001b[0m\u001b[0mupdate\u001b[0m\u001b[0;34m(\u001b[0m\u001b[0mkwds_defaults\u001b[0m\u001b[0;34m)\u001b[0m\u001b[0;34m\u001b[0m\u001b[0;34m\u001b[0m\u001b[0m\n\u001b[1;32m   1025\u001b[0m \u001b[0;34m\u001b[0m\u001b[0m\n\u001b[0;32m-> 1026\u001b[0;31m     \u001b[0;32mreturn\u001b[0m \u001b[0m_read\u001b[0m\u001b[0;34m(\u001b[0m\u001b[0mfilepath_or_buffer\u001b[0m\u001b[0;34m,\u001b[0m \u001b[0mkwds\u001b[0m\u001b[0;34m)\u001b[0m\u001b[0;34m\u001b[0m\u001b[0;34m\u001b[0m\u001b[0m\n\u001b[0m\u001b[1;32m   1027\u001b[0m \u001b[0;34m\u001b[0m\u001b[0m\n\u001b[1;32m   1028\u001b[0m \u001b[0;34m\u001b[0m\u001b[0m\n",
            "\u001b[0;32m/usr/local/lib/python3.11/dist-packages/pandas/io/parsers/readers.py\u001b[0m in \u001b[0;36m_read\u001b[0;34m(filepath_or_buffer, kwds)\u001b[0m\n\u001b[1;32m    618\u001b[0m \u001b[0;34m\u001b[0m\u001b[0m\n\u001b[1;32m    619\u001b[0m     \u001b[0;31m# Create the parser.\u001b[0m\u001b[0;34m\u001b[0m\u001b[0;34m\u001b[0m\u001b[0m\n\u001b[0;32m--> 620\u001b[0;31m     \u001b[0mparser\u001b[0m \u001b[0;34m=\u001b[0m \u001b[0mTextFileReader\u001b[0m\u001b[0;34m(\u001b[0m\u001b[0mfilepath_or_buffer\u001b[0m\u001b[0;34m,\u001b[0m \u001b[0;34m**\u001b[0m\u001b[0mkwds\u001b[0m\u001b[0;34m)\u001b[0m\u001b[0;34m\u001b[0m\u001b[0;34m\u001b[0m\u001b[0m\n\u001b[0m\u001b[1;32m    621\u001b[0m \u001b[0;34m\u001b[0m\u001b[0m\n\u001b[1;32m    622\u001b[0m     \u001b[0;32mif\u001b[0m \u001b[0mchunksize\u001b[0m \u001b[0;32mor\u001b[0m \u001b[0miterator\u001b[0m\u001b[0;34m:\u001b[0m\u001b[0;34m\u001b[0m\u001b[0;34m\u001b[0m\u001b[0m\n",
            "\u001b[0;32m/usr/local/lib/python3.11/dist-packages/pandas/io/parsers/readers.py\u001b[0m in \u001b[0;36m__init__\u001b[0;34m(self, f, engine, **kwds)\u001b[0m\n\u001b[1;32m   1618\u001b[0m \u001b[0;34m\u001b[0m\u001b[0m\n\u001b[1;32m   1619\u001b[0m         \u001b[0mself\u001b[0m\u001b[0;34m.\u001b[0m\u001b[0mhandles\u001b[0m\u001b[0;34m:\u001b[0m \u001b[0mIOHandles\u001b[0m \u001b[0;34m|\u001b[0m \u001b[0;32mNone\u001b[0m \u001b[0;34m=\u001b[0m \u001b[0;32mNone\u001b[0m\u001b[0;34m\u001b[0m\u001b[0;34m\u001b[0m\u001b[0m\n\u001b[0;32m-> 1620\u001b[0;31m         \u001b[0mself\u001b[0m\u001b[0;34m.\u001b[0m\u001b[0m_engine\u001b[0m \u001b[0;34m=\u001b[0m \u001b[0mself\u001b[0m\u001b[0;34m.\u001b[0m\u001b[0m_make_engine\u001b[0m\u001b[0;34m(\u001b[0m\u001b[0mf\u001b[0m\u001b[0;34m,\u001b[0m \u001b[0mself\u001b[0m\u001b[0;34m.\u001b[0m\u001b[0mengine\u001b[0m\u001b[0;34m)\u001b[0m\u001b[0;34m\u001b[0m\u001b[0;34m\u001b[0m\u001b[0m\n\u001b[0m\u001b[1;32m   1621\u001b[0m \u001b[0;34m\u001b[0m\u001b[0m\n\u001b[1;32m   1622\u001b[0m     \u001b[0;32mdef\u001b[0m \u001b[0mclose\u001b[0m\u001b[0;34m(\u001b[0m\u001b[0mself\u001b[0m\u001b[0;34m)\u001b[0m \u001b[0;34m->\u001b[0m \u001b[0;32mNone\u001b[0m\u001b[0;34m:\u001b[0m\u001b[0;34m\u001b[0m\u001b[0;34m\u001b[0m\u001b[0m\n",
            "\u001b[0;32m/usr/local/lib/python3.11/dist-packages/pandas/io/parsers/readers.py\u001b[0m in \u001b[0;36m_make_engine\u001b[0;34m(self, f, engine)\u001b[0m\n\u001b[1;32m   1878\u001b[0m                 \u001b[0;32mif\u001b[0m \u001b[0;34m\"b\"\u001b[0m \u001b[0;32mnot\u001b[0m \u001b[0;32min\u001b[0m \u001b[0mmode\u001b[0m\u001b[0;34m:\u001b[0m\u001b[0;34m\u001b[0m\u001b[0;34m\u001b[0m\u001b[0m\n\u001b[1;32m   1879\u001b[0m                     \u001b[0mmode\u001b[0m \u001b[0;34m+=\u001b[0m \u001b[0;34m\"b\"\u001b[0m\u001b[0;34m\u001b[0m\u001b[0;34m\u001b[0m\u001b[0m\n\u001b[0;32m-> 1880\u001b[0;31m             self.handles = get_handle(\n\u001b[0m\u001b[1;32m   1881\u001b[0m                 \u001b[0mf\u001b[0m\u001b[0;34m,\u001b[0m\u001b[0;34m\u001b[0m\u001b[0;34m\u001b[0m\u001b[0m\n\u001b[1;32m   1882\u001b[0m                 \u001b[0mmode\u001b[0m\u001b[0;34m,\u001b[0m\u001b[0;34m\u001b[0m\u001b[0;34m\u001b[0m\u001b[0m\n",
            "\u001b[0;32m/usr/local/lib/python3.11/dist-packages/pandas/io/common.py\u001b[0m in \u001b[0;36mget_handle\u001b[0;34m(path_or_buf, mode, encoding, compression, memory_map, is_text, errors, storage_options)\u001b[0m\n\u001b[1;32m    871\u001b[0m         \u001b[0;32mif\u001b[0m \u001b[0mioargs\u001b[0m\u001b[0;34m.\u001b[0m\u001b[0mencoding\u001b[0m \u001b[0;32mand\u001b[0m \u001b[0;34m\"b\"\u001b[0m \u001b[0;32mnot\u001b[0m \u001b[0;32min\u001b[0m \u001b[0mioargs\u001b[0m\u001b[0;34m.\u001b[0m\u001b[0mmode\u001b[0m\u001b[0;34m:\u001b[0m\u001b[0;34m\u001b[0m\u001b[0;34m\u001b[0m\u001b[0m\n\u001b[1;32m    872\u001b[0m             \u001b[0;31m# Encoding\u001b[0m\u001b[0;34m\u001b[0m\u001b[0;34m\u001b[0m\u001b[0m\n\u001b[0;32m--> 873\u001b[0;31m             handle = open(\n\u001b[0m\u001b[1;32m    874\u001b[0m                 \u001b[0mhandle\u001b[0m\u001b[0;34m,\u001b[0m\u001b[0;34m\u001b[0m\u001b[0;34m\u001b[0m\u001b[0m\n\u001b[1;32m    875\u001b[0m                 \u001b[0mioargs\u001b[0m\u001b[0;34m.\u001b[0m\u001b[0mmode\u001b[0m\u001b[0;34m,\u001b[0m\u001b[0;34m\u001b[0m\u001b[0;34m\u001b[0m\u001b[0m\n",
            "\u001b[0;31mFileNotFoundError\u001b[0m: [Errno 2] No such file or directory: '/kaggle/input/graduate-admissions/Admission_Predict_Ver1.1.csv'"
          ]
        }
      ],
      "execution_count": 3
    },
    {
      "cell_type": "code",
      "source": [
        "df.head()"
      ],
      "metadata": {
        "execution": {
          "iopub.status.busy": "2025-01-26T16:10:43.717115Z",
          "iopub.execute_input": "2025-01-26T16:10:43.717914Z",
          "iopub.status.idle": "2025-01-26T16:10:43.743554Z",
          "shell.execute_reply.started": "2025-01-26T16:10:43.717857Z",
          "shell.execute_reply": "2025-01-26T16:10:43.742556Z"
        },
        "trusted": true,
        "id": "fk7O3MEPz9TN",
        "outputId": "8a9a341f-20f6-4fdc-9832-5ed92bf55e5a"
      },
      "outputs": [
        {
          "execution_count": 3,
          "output_type": "execute_result",
          "data": {
            "text/plain": "   Serial No.  GRE Score  TOEFL Score  University Rating  SOP  LOR   CGPA  \\\n0           1        337          118                  4  4.5   4.5  9.65   \n1           2        324          107                  4  4.0   4.5  8.87   \n2           3        316          104                  3  3.0   3.5  8.00   \n3           4        322          110                  3  3.5   2.5  8.67   \n4           5        314          103                  2  2.0   3.0  8.21   \n\n   Research  Chance of Admit   \n0         1              0.92  \n1         1              0.76  \n2         1              0.72  \n3         1              0.80  \n4         0              0.65  ",
            "text/html": "<div>\n<style scoped>\n    .dataframe tbody tr th:only-of-type {\n        vertical-align: middle;\n    }\n\n    .dataframe tbody tr th {\n        vertical-align: top;\n    }\n\n    .dataframe thead th {\n        text-align: right;\n    }\n</style>\n<table border=\"1\" class=\"dataframe\">\n  <thead>\n    <tr style=\"text-align: right;\">\n      <th></th>\n      <th>Serial No.</th>\n      <th>GRE Score</th>\n      <th>TOEFL Score</th>\n      <th>University Rating</th>\n      <th>SOP</th>\n      <th>LOR</th>\n      <th>CGPA</th>\n      <th>Research</th>\n      <th>Chance of Admit</th>\n    </tr>\n  </thead>\n  <tbody>\n    <tr>\n      <th>0</th>\n      <td>1</td>\n      <td>337</td>\n      <td>118</td>\n      <td>4</td>\n      <td>4.5</td>\n      <td>4.5</td>\n      <td>9.65</td>\n      <td>1</td>\n      <td>0.92</td>\n    </tr>\n    <tr>\n      <th>1</th>\n      <td>2</td>\n      <td>324</td>\n      <td>107</td>\n      <td>4</td>\n      <td>4.0</td>\n      <td>4.5</td>\n      <td>8.87</td>\n      <td>1</td>\n      <td>0.76</td>\n    </tr>\n    <tr>\n      <th>2</th>\n      <td>3</td>\n      <td>316</td>\n      <td>104</td>\n      <td>3</td>\n      <td>3.0</td>\n      <td>3.5</td>\n      <td>8.00</td>\n      <td>1</td>\n      <td>0.72</td>\n    </tr>\n    <tr>\n      <th>3</th>\n      <td>4</td>\n      <td>322</td>\n      <td>110</td>\n      <td>3</td>\n      <td>3.5</td>\n      <td>2.5</td>\n      <td>8.67</td>\n      <td>1</td>\n      <td>0.80</td>\n    </tr>\n    <tr>\n      <th>4</th>\n      <td>5</td>\n      <td>314</td>\n      <td>103</td>\n      <td>2</td>\n      <td>2.0</td>\n      <td>3.0</td>\n      <td>8.21</td>\n      <td>0</td>\n      <td>0.65</td>\n    </tr>\n  </tbody>\n</table>\n</div>"
          },
          "metadata": {}
        }
      ],
      "execution_count": null
    },
    {
      "cell_type": "code",
      "source": [
        "df.shape"
      ],
      "metadata": {
        "execution": {
          "iopub.status.busy": "2025-01-26T16:10:43.744851Z",
          "iopub.execute_input": "2025-01-26T16:10:43.745082Z",
          "iopub.status.idle": "2025-01-26T16:10:43.751306Z",
          "shell.execute_reply.started": "2025-01-26T16:10:43.745053Z",
          "shell.execute_reply": "2025-01-26T16:10:43.750375Z"
        },
        "trusted": true,
        "id": "GX7pKgq5z9TP",
        "outputId": "11c166b4-fed2-41ea-83c7-2248fb0597d7"
      },
      "outputs": [
        {
          "execution_count": 4,
          "output_type": "execute_result",
          "data": {
            "text/plain": "(500, 9)"
          },
          "metadata": {}
        }
      ],
      "execution_count": null
    },
    {
      "cell_type": "code",
      "source": [
        "df.info()"
      ],
      "metadata": {
        "execution": {
          "iopub.status.busy": "2025-01-26T16:10:43.752917Z",
          "iopub.execute_input": "2025-01-26T16:10:43.753157Z",
          "iopub.status.idle": "2025-01-26T16:10:43.788768Z",
          "shell.execute_reply.started": "2025-01-26T16:10:43.753129Z",
          "shell.execute_reply": "2025-01-26T16:10:43.787543Z"
        },
        "trusted": true,
        "id": "OphaZ-maz9Tc",
        "outputId": "e19adeb0-605c-4d39-ecc9-595ec822fd8a"
      },
      "outputs": [
        {
          "name": "stdout",
          "text": "<class 'pandas.core.frame.DataFrame'>\nRangeIndex: 500 entries, 0 to 499\nData columns (total 9 columns):\n #   Column             Non-Null Count  Dtype  \n---  ------             --------------  -----  \n 0   Serial No.         500 non-null    int64  \n 1   GRE Score          500 non-null    int64  \n 2   TOEFL Score        500 non-null    int64  \n 3   University Rating  500 non-null    int64  \n 4   SOP                500 non-null    float64\n 5   LOR                500 non-null    float64\n 6   CGPA               500 non-null    float64\n 7   Research           500 non-null    int64  \n 8   Chance of Admit    500 non-null    float64\ndtypes: float64(4), int64(5)\nmemory usage: 35.3 KB\n",
          "output_type": "stream"
        }
      ],
      "execution_count": null
    },
    {
      "cell_type": "code",
      "source": [
        "df.duplicated().sum()"
      ],
      "metadata": {
        "execution": {
          "iopub.status.busy": "2025-01-26T16:10:43.790167Z",
          "iopub.execute_input": "2025-01-26T16:10:43.790783Z",
          "iopub.status.idle": "2025-01-26T16:10:43.806147Z",
          "shell.execute_reply.started": "2025-01-26T16:10:43.790684Z",
          "shell.execute_reply": "2025-01-26T16:10:43.804733Z"
        },
        "trusted": true,
        "id": "1eGQ9Iyuz9Td",
        "outputId": "92acecfc-17be-4e42-a4fd-d5287764cd4a"
      },
      "outputs": [
        {
          "execution_count": 6,
          "output_type": "execute_result",
          "data": {
            "text/plain": "0"
          },
          "metadata": {}
        }
      ],
      "execution_count": null
    },
    {
      "cell_type": "code",
      "source": [
        "df.drop(columns=['Serial No.'],inplace=True)"
      ],
      "metadata": {
        "execution": {
          "iopub.status.busy": "2025-01-26T16:10:43.808027Z",
          "iopub.execute_input": "2025-01-26T16:10:43.808386Z",
          "iopub.status.idle": "2025-01-26T16:10:43.820672Z",
          "shell.execute_reply.started": "2025-01-26T16:10:43.808349Z",
          "shell.execute_reply": "2025-01-26T16:10:43.819548Z"
        },
        "trusted": true,
        "id": "cJZ3UUtDz9Ts"
      },
      "outputs": [],
      "execution_count": null
    },
    {
      "cell_type": "code",
      "source": [
        "df.head()"
      ],
      "metadata": {
        "execution": {
          "iopub.status.busy": "2025-01-26T16:10:43.821839Z",
          "iopub.execute_input": "2025-01-26T16:10:43.822081Z",
          "iopub.status.idle": "2025-01-26T16:10:43.855313Z",
          "shell.execute_reply.started": "2025-01-26T16:10:43.822051Z",
          "shell.execute_reply": "2025-01-26T16:10:43.853919Z"
        },
        "trusted": true,
        "id": "zCzvEDzuz9Tt",
        "outputId": "e9dc7b43-a448-437d-9f88-4e0596cfdce4"
      },
      "outputs": [
        {
          "execution_count": 8,
          "output_type": "execute_result",
          "data": {
            "text/plain": "   GRE Score  TOEFL Score  University Rating  SOP  LOR   CGPA  Research  \\\n0        337          118                  4  4.5   4.5  9.65         1   \n1        324          107                  4  4.0   4.5  8.87         1   \n2        316          104                  3  3.0   3.5  8.00         1   \n3        322          110                  3  3.5   2.5  8.67         1   \n4        314          103                  2  2.0   3.0  8.21         0   \n\n   Chance of Admit   \n0              0.92  \n1              0.76  \n2              0.72  \n3              0.80  \n4              0.65  ",
            "text/html": "<div>\n<style scoped>\n    .dataframe tbody tr th:only-of-type {\n        vertical-align: middle;\n    }\n\n    .dataframe tbody tr th {\n        vertical-align: top;\n    }\n\n    .dataframe thead th {\n        text-align: right;\n    }\n</style>\n<table border=\"1\" class=\"dataframe\">\n  <thead>\n    <tr style=\"text-align: right;\">\n      <th></th>\n      <th>GRE Score</th>\n      <th>TOEFL Score</th>\n      <th>University Rating</th>\n      <th>SOP</th>\n      <th>LOR</th>\n      <th>CGPA</th>\n      <th>Research</th>\n      <th>Chance of Admit</th>\n    </tr>\n  </thead>\n  <tbody>\n    <tr>\n      <th>0</th>\n      <td>337</td>\n      <td>118</td>\n      <td>4</td>\n      <td>4.5</td>\n      <td>4.5</td>\n      <td>9.65</td>\n      <td>1</td>\n      <td>0.92</td>\n    </tr>\n    <tr>\n      <th>1</th>\n      <td>324</td>\n      <td>107</td>\n      <td>4</td>\n      <td>4.0</td>\n      <td>4.5</td>\n      <td>8.87</td>\n      <td>1</td>\n      <td>0.76</td>\n    </tr>\n    <tr>\n      <th>2</th>\n      <td>316</td>\n      <td>104</td>\n      <td>3</td>\n      <td>3.0</td>\n      <td>3.5</td>\n      <td>8.00</td>\n      <td>1</td>\n      <td>0.72</td>\n    </tr>\n    <tr>\n      <th>3</th>\n      <td>322</td>\n      <td>110</td>\n      <td>3</td>\n      <td>3.5</td>\n      <td>2.5</td>\n      <td>8.67</td>\n      <td>1</td>\n      <td>0.80</td>\n    </tr>\n    <tr>\n      <th>4</th>\n      <td>314</td>\n      <td>103</td>\n      <td>2</td>\n      <td>2.0</td>\n      <td>3.0</td>\n      <td>8.21</td>\n      <td>0</td>\n      <td>0.65</td>\n    </tr>\n  </tbody>\n</table>\n</div>"
          },
          "metadata": {}
        }
      ],
      "execution_count": null
    },
    {
      "cell_type": "code",
      "source": [
        "X = df.iloc[:,0:-1]\n",
        "y = df.iloc[:,-1]"
      ],
      "metadata": {
        "execution": {
          "iopub.status.busy": "2025-01-26T16:10:43.90671Z",
          "iopub.execute_input": "2025-01-26T16:10:43.908094Z",
          "iopub.status.idle": "2025-01-26T16:10:43.914105Z",
          "shell.execute_reply.started": "2025-01-26T16:10:43.90803Z",
          "shell.execute_reply": "2025-01-26T16:10:43.912814Z"
        },
        "trusted": true,
        "id": "cKJqZpMVz9Tu"
      },
      "outputs": [],
      "execution_count": null
    },
    {
      "cell_type": "code",
      "source": [
        "X"
      ],
      "metadata": {
        "execution": {
          "iopub.status.busy": "2022-03-11T05:18:55.561051Z",
          "iopub.execute_input": "2022-03-11T05:18:55.561371Z",
          "iopub.status.idle": "2022-03-11T05:18:55.586856Z",
          "shell.execute_reply.started": "2022-03-11T05:18:55.561338Z",
          "shell.execute_reply": "2022-03-11T05:18:55.585688Z"
        },
        "trusted": true,
        "id": "c8mM19IHz9Tv"
      },
      "outputs": [],
      "execution_count": null
    },
    {
      "cell_type": "code",
      "source": [
        "y"
      ],
      "metadata": {
        "execution": {
          "iopub.status.busy": "2022-03-11T05:19:01.453822Z",
          "iopub.execute_input": "2022-03-11T05:19:01.454126Z",
          "iopub.status.idle": "2022-03-11T05:19:01.465052Z",
          "shell.execute_reply.started": "2022-03-11T05:19:01.454096Z",
          "shell.execute_reply": "2022-03-11T05:19:01.463876Z"
        },
        "trusted": true,
        "id": "r-krnIOsz9Tw"
      },
      "outputs": [],
      "execution_count": null
    },
    {
      "cell_type": "code",
      "source": [
        "from sklearn.model_selection import train_test_split\n",
        "X_train,X_test,y_train,y_test = train_test_split(X,y,test_size=0.2,random_state=1)"
      ],
      "metadata": {
        "execution": {
          "iopub.status.busy": "2022-03-11T05:19:48.103438Z",
          "iopub.execute_input": "2022-03-11T05:19:48.103753Z",
          "iopub.status.idle": "2022-03-11T05:19:48.114293Z",
          "shell.execute_reply.started": "2022-03-11T05:19:48.103724Z",
          "shell.execute_reply": "2022-03-11T05:19:48.11353Z"
        },
        "trusted": true,
        "id": "Lpbe6vqPz9T9"
      },
      "outputs": [],
      "execution_count": null
    },
    {
      "cell_type": "code",
      "source": [
        "X_train"
      ],
      "metadata": {
        "execution": {
          "iopub.status.busy": "2022-03-11T05:19:51.552653Z",
          "iopub.execute_input": "2022-03-11T05:19:51.553709Z",
          "iopub.status.idle": "2022-03-11T05:19:51.574739Z",
          "shell.execute_reply.started": "2022-03-11T05:19:51.55366Z",
          "shell.execute_reply": "2022-03-11T05:19:51.573768Z"
        },
        "trusted": true,
        "id": "_XM2jueHz9T_"
      },
      "outputs": [],
      "execution_count": null
    },
    {
      "cell_type": "code",
      "source": [
        "from sklearn.preprocessing import MinMaxScaler\n",
        "scaler = MinMaxScaler()\n",
        "\n",
        "X_train_scaled = scaler.fit_transform(X_train)\n",
        "X_test_scaled = scaler.transform(X_test)"
      ],
      "metadata": {
        "execution": {
          "iopub.status.busy": "2022-03-11T05:20:46.395892Z",
          "iopub.execute_input": "2022-03-11T05:20:46.396197Z",
          "iopub.status.idle": "2022-03-11T05:20:46.408101Z",
          "shell.execute_reply.started": "2022-03-11T05:20:46.396162Z",
          "shell.execute_reply": "2022-03-11T05:20:46.407465Z"
        },
        "trusted": true,
        "id": "Y3UNElYzz9UA"
      },
      "outputs": [],
      "execution_count": null
    },
    {
      "cell_type": "code",
      "source": [
        "X_train_scaled"
      ],
      "metadata": {
        "execution": {
          "iopub.status.busy": "2022-03-11T05:20:55.453264Z",
          "iopub.execute_input": "2022-03-11T05:20:55.453673Z",
          "iopub.status.idle": "2022-03-11T05:20:55.46197Z",
          "shell.execute_reply.started": "2022-03-11T05:20:55.453633Z",
          "shell.execute_reply": "2022-03-11T05:20:55.460824Z"
        },
        "trusted": true,
        "id": "OimDuSGFz9UB"
      },
      "outputs": [],
      "execution_count": null
    },
    {
      "cell_type": "code",
      "source": [
        "import tensorflow\n",
        "from tensorflow import keras\n",
        "from keras import Sequential\n",
        "from keras.layers import Dense"
      ],
      "metadata": {
        "execution": {
          "iopub.status.busy": "2022-03-11T05:21:52.940695Z",
          "iopub.execute_input": "2022-03-11T05:21:52.940999Z",
          "iopub.status.idle": "2022-03-11T05:21:53.689638Z",
          "shell.execute_reply.started": "2022-03-11T05:21:52.940968Z",
          "shell.execute_reply": "2022-03-11T05:21:53.688691Z"
        },
        "trusted": true,
        "id": "_mJn7YsUz9UB"
      },
      "outputs": [],
      "execution_count": null
    },
    {
      "cell_type": "code",
      "source": [
        "model = Sequential()\n",
        "\n",
        "model.add(Dense(7,activation='relu',input_dim=7))\n",
        "model.add(Dense(7,activation='relu'))\n",
        "model.add(Dense(1,activation='linear'))"
      ],
      "metadata": {
        "execution": {
          "iopub.status.busy": "2022-03-11T05:28:05.020058Z",
          "iopub.execute_input": "2022-03-11T05:28:05.020529Z",
          "iopub.status.idle": "2022-03-11T05:28:05.05996Z",
          "shell.execute_reply.started": "2022-03-11T05:28:05.020494Z",
          "shell.execute_reply": "2022-03-11T05:28:05.059144Z"
        },
        "trusted": true,
        "id": "j7oVeAEQz9UK"
      },
      "outputs": [],
      "execution_count": null
    },
    {
      "cell_type": "code",
      "source": [
        "model.summary()"
      ],
      "metadata": {
        "execution": {
          "iopub.status.busy": "2022-03-11T05:28:08.804018Z",
          "iopub.execute_input": "2022-03-11T05:28:08.804505Z",
          "iopub.status.idle": "2022-03-11T05:28:08.813085Z",
          "shell.execute_reply.started": "2022-03-11T05:28:08.804471Z",
          "shell.execute_reply": "2022-03-11T05:28:08.811993Z"
        },
        "trusted": true,
        "id": "0bsMoeysz9UL"
      },
      "outputs": [],
      "execution_count": null
    },
    {
      "cell_type": "code",
      "source": [
        "model.compile(loss='mean_squared_error',optimizer='Adam')"
      ],
      "metadata": {
        "execution": {
          "iopub.status.busy": "2022-03-11T05:28:14.077813Z",
          "iopub.execute_input": "2022-03-11T05:28:14.07811Z",
          "iopub.status.idle": "2022-03-11T05:28:14.090885Z",
          "shell.execute_reply.started": "2022-03-11T05:28:14.078081Z",
          "shell.execute_reply": "2022-03-11T05:28:14.0902Z"
        },
        "trusted": true,
        "id": "DDbossT_z9UL"
      },
      "outputs": [],
      "execution_count": null
    },
    {
      "cell_type": "code",
      "source": [
        "history = model.fit(X_train_scaled,y_train,epochs=100,validation_split=0.2)"
      ],
      "metadata": {
        "execution": {
          "iopub.status.busy": "2022-03-11T05:28:23.321197Z",
          "iopub.execute_input": "2022-03-11T05:28:23.321516Z",
          "iopub.status.idle": "2022-03-11T05:28:33.96788Z",
          "shell.execute_reply.started": "2022-03-11T05:28:23.321484Z",
          "shell.execute_reply": "2022-03-11T05:28:33.96691Z"
        },
        "trusted": true,
        "id": "tmSwDs-gz9UM"
      },
      "outputs": [],
      "execution_count": null
    },
    {
      "cell_type": "code",
      "source": [
        "y_pred = model.predict(X_test_scaled)"
      ],
      "metadata": {
        "execution": {
          "iopub.status.busy": "2022-03-11T05:28:40.33217Z",
          "iopub.execute_input": "2022-03-11T05:28:40.332514Z",
          "iopub.status.idle": "2022-03-11T05:28:40.448046Z",
          "shell.execute_reply.started": "2022-03-11T05:28:40.332479Z",
          "shell.execute_reply": "2022-03-11T05:28:40.447015Z"
        },
        "trusted": true,
        "id": "zSszCAD8z9UM"
      },
      "outputs": [],
      "execution_count": null
    },
    {
      "cell_type": "code",
      "source": [
        "from sklearn.metrics import r2_score\n",
        "r2_score(y_test,y_pred)"
      ],
      "metadata": {
        "execution": {
          "iopub.status.busy": "2022-03-11T05:28:46.414662Z",
          "iopub.execute_input": "2022-03-11T05:28:46.414981Z",
          "iopub.status.idle": "2022-03-11T05:28:46.423778Z",
          "shell.execute_reply.started": "2022-03-11T05:28:46.414947Z",
          "shell.execute_reply": "2022-03-11T05:28:46.422401Z"
        },
        "trusted": true,
        "id": "36-L6Tsbz9UN"
      },
      "outputs": [],
      "execution_count": null
    },
    {
      "cell_type": "code",
      "source": [
        "import matplotlib.pyplot as plt\n",
        "plt.plot(history.history['loss'])\n",
        "plt.plot(history.history['val_loss'])"
      ],
      "metadata": {
        "execution": {
          "iopub.status.busy": "2022-03-11T05:30:49.89142Z",
          "iopub.execute_input": "2022-03-11T05:30:49.891819Z",
          "iopub.status.idle": "2022-03-11T05:30:50.160472Z",
          "shell.execute_reply.started": "2022-03-11T05:30:49.891779Z",
          "shell.execute_reply": "2022-03-11T05:30:50.159294Z"
        },
        "trusted": true,
        "id": "9aJ_XFgiz9UN"
      },
      "outputs": [],
      "execution_count": null
    },
    {
      "cell_type": "code",
      "source": [],
      "metadata": {
        "id": "81fbDYhQz9UO"
      },
      "outputs": [],
      "execution_count": null
    }
  ]
}